{
 "cells": [
  {
   "cell_type": "markdown",
   "metadata": {},
   "source": [
    "# 1. Exploring 1-band model"
   ]
  },
  {
   "cell_type": "markdown",
   "metadata": {},
   "source": [
    "## Set up"
   ]
  },
  {
   "cell_type": "markdown",
   "metadata": {},
   "source": [
    "Libraries used"
   ]
  },
  {
   "cell_type": "code",
   "execution_count": 1,
   "metadata": {},
   "outputs": [],
   "source": [
    "import torch\n",
    "import torch.nn as nn\n",
    "import torch.nn.init as init\n",
    "import numpy as np\n",
    "from torch.autograd import Variable\n",
    "import matplotlib.pyplot as plt\n",
    "%matplotlib inline"
   ]
  },
  {
   "cell_type": "markdown",
   "metadata": {},
   "source": [
    "The entire model class (for reference)"
   ]
  },
  {
   "cell_type": "code",
   "execution_count": 2,
   "metadata": {},
   "outputs": [],
   "source": [
    "class Net(nn.Module):\n",
    "    def __init__(self, upscale_factor):\n",
    "        super(Net, self).__init__()\n",
    "\n",
    "        self.relu = nn.ReLU()\n",
    "        self.conv1 = nn.Conv2d(1, 64, (5, 5), (1, 1), (2, 2))\n",
    "        self.conv2 = nn.Conv2d(64, 64, (3, 3), (1, 1), (1, 1))\n",
    "        self.conv3 = nn.Conv2d(64, 32, (3, 3), (1, 1), (1, 1))\n",
    "        self.conv4 = nn.Conv2d(32, upscale_factor ** 2, (3, 3), (1, 1), (1, 1))\n",
    "        self.pixel_shuffle = nn.PixelShuffle(upscale_factor)\n",
    "\n",
    "        self._initialize_weights()\n",
    "\n",
    "    def forward(self, x):\n",
    "        x = self.relu(self.conv1(x))\n",
    "        x = self.relu(self.conv2(x))\n",
    "        x = self.relu(self.conv3(x))\n",
    "        x = self.pixel_shuffle(self.conv4(x))\n",
    "        return x\n",
    "\n",
    "    def _initialize_weights(self):\n",
    "        init.orthogonal(self.conv1.weight, init.calculate_gain('relu'))\n",
    "        init.orthogonal(self.conv2.weight, init.calculate_gain('relu'))\n",
    "        init.orthogonal(self.conv3.weight, init.calculate_gain('relu'))\n",
    "        init.orthogonal(self.conv4.weight)"
   ]
  },
  {
   "cell_type": "markdown",
   "metadata": {},
   "source": [
    "Creating an 'image' to test the model architecture with; this is a 500x500 image with 1 color band (like elevation), and I'm going to try to increase it to a 1500x1500 image (similar to the 30m -> 10m problem)"
   ]
  },
  {
   "cell_type": "code",
   "execution_count": 3,
   "metadata": {},
   "outputs": [
    {
     "data": {
      "text/plain": [
       "Variable containing:\n",
       "( 0 , 0 ,.,.) = \n",
       "   0   0   0  ...    0   0   0\n",
       "   0   0   0  ...    0   0   0\n",
       "   0   0   0  ...    0   0   0\n",
       "     ...       ⋱       ...    \n",
       "   0   0   0  ...    0   0   0\n",
       "   0   0   0  ...    0   0   0\n",
       "   0   0   0  ...    0   0   0\n",
       "[torch.FloatTensor of size 1x1x500x500]"
      ]
     },
     "execution_count": 3,
     "metadata": {},
     "output_type": "execute_result"
    }
   ],
   "source": [
    "testing = np.zeros((1, 1, 500, 500))\n",
    "testing = torch.from_numpy(testing)\n",
    "testing = Variable(testing)\n",
    "testing = testing.float()\n",
    "testing"
   ]
  },
  {
   "cell_type": "markdown",
   "metadata": {},
   "source": [
    "### The beginning image"
   ]
  },
  {
   "cell_type": "code",
   "execution_count": 4,
   "metadata": {},
   "outputs": [
    {
     "data": {
      "text/plain": [
       "<matplotlib.image.AxesImage at 0x7fb953e7f208>"
      ]
     },
     "execution_count": 4,
     "metadata": {},
     "output_type": "execute_result"
    },
    {
     "data": {
      "image/png": "[encoded data removed]",
      "text/plain": [
       "<matplotlib.figure.Figure at 0x7fb953f0dc18>"
      ]
     },
     "metadata": {},
     "output_type": "display_data"
    }
   ],
   "source": [
    "plt.imshow(testing.data.numpy().squeeze())"
   ]
  },
  {
   "cell_type": "markdown",
   "metadata": {},
   "source": [
    "Testing the ReLU layer"
   ]
  },
  {
   "cell_type": "code",
   "execution_count": 5,
   "metadata": {},
   "outputs": [
    {
     "data": {
      "text/plain": [
       "Variable containing:\n",
       "( 0 , 0 ,.,.) = \n",
       "   0   0   0  ...    0   0   0\n",
       "   0   0   0  ...    0   0   0\n",
       "   0   0   0  ...    0   0   0\n",
       "     ...       ⋱       ...    \n",
       "   0   0   0  ...    0   0   0\n",
       "   0   0   0  ...    0   0   0\n",
       "   0   0   0  ...    0   0   0\n",
       "[torch.FloatTensor of size 1x1x500x500]"
      ]
     },
     "execution_count": 5,
     "metadata": {},
     "output_type": "execute_result"
    }
   ],
   "source": [
    "relu_layer = nn.ReLU()\n",
    "relu_output = relu_layer(testing)\n",
    "relu_output"
   ]
  },
  {
   "cell_type": "markdown",
   "metadata": {},
   "source": [
    "Testing the convolution layers"
   ]
  },
  {
   "cell_type": "code",
   "execution_count": 6,
   "metadata": {},
   "outputs": [
    {
     "data": {
      "text/plain": [
       "Variable containing:\n",
       "( 0 , 0 ,.,.) = \n",
       "  0.0191  0.0193  0.0274  ...   0.0275  0.0261  0.0328\n",
       "  0.0162  0.0075  0.0142  ...   0.0177  0.0252  0.0179\n",
       "  0.0084  0.0003  0.0066  ...   0.0084  0.0114  0.0110\n",
       "           ...             ⋱             ...          \n",
       "  0.0123 -0.0027  0.0023  ...   0.0054  0.0085  0.0053\n",
       "  0.0132  0.0041  0.0070  ...   0.0107  0.0149  0.0056\n",
       "  0.0053 -0.0058 -0.0089  ...  -0.0089 -0.0115 -0.0130\n",
       "\n",
       "( 0 , 1 ,.,.) = \n",
       " -0.0090 -0.0069 -0.0167  ...  -0.0232 -0.0234 -0.0086\n",
       " -0.0211 -0.0189 -0.0350  ...  -0.0393 -0.0413 -0.0184\n",
       " -0.0198 -0.0163 -0.0340  ...  -0.0416 -0.0426 -0.0183\n",
       "           ...             ⋱             ...          \n",
       " -0.0134 -0.0118 -0.0321  ...  -0.0378 -0.0431 -0.0199\n",
       " -0.0194 -0.0231 -0.0427  ...  -0.0439 -0.0476 -0.0236\n",
       " -0.0055 -0.0070 -0.0186  ...  -0.0221 -0.0271 -0.0231\n",
       "\n",
       "( 0 , 2 ,.,.) = \n",
       " -0.0513 -0.0621 -0.0576  ...  -0.0541 -0.0556 -0.0463\n",
       " -0.0505 -0.0628 -0.0624  ...  -0.0644 -0.0643 -0.0523\n",
       " -0.0452 -0.0549 -0.0529  ...  -0.0554 -0.0600 -0.0520\n",
       "           ...             ⋱             ...          \n",
       " -0.0463 -0.0520 -0.0467  ...  -0.0521 -0.0524 -0.0454\n",
       " -0.0492 -0.0590 -0.0540  ...  -0.0585 -0.0581 -0.0490\n",
       " -0.0487 -0.0550 -0.0517  ...  -0.0558 -0.0547 -0.0577\n",
       "    ... \n",
       "\n",
       "( 0 , 6 ,.,.) = \n",
       " -0.0188 -0.0295 -0.0342  ...  -0.0356 -0.0348 -0.0289\n",
       " -0.0054 -0.0082 -0.0154  ...  -0.0180 -0.0219 -0.0219\n",
       " -0.0053 -0.0107 -0.0179  ...  -0.0258 -0.0257 -0.0222\n",
       "           ...             ⋱             ...          \n",
       " -0.0047 -0.0111 -0.0192  ...  -0.0285 -0.0261 -0.0225\n",
       " -0.0038 -0.0076 -0.0164  ...  -0.0231 -0.0220 -0.0170\n",
       " -0.0057 -0.0097 -0.0137  ...  -0.0226 -0.0176 -0.0174\n",
       "\n",
       "( 0 , 7 ,.,.) = \n",
       " -0.0531 -0.0367 -0.0442  ...  -0.0448 -0.0461 -0.0599\n",
       " -0.0369 -0.0226 -0.0343  ...  -0.0336 -0.0360 -0.0581\n",
       " -0.0513 -0.0439 -0.0585  ...  -0.0570 -0.0505 -0.0615\n",
       "           ...             ⋱             ...          \n",
       " -0.0507 -0.0465 -0.0570  ...  -0.0554 -0.0512 -0.0602\n",
       " -0.0421 -0.0450 -0.0531  ...  -0.0536 -0.0496 -0.0615\n",
       " -0.0663 -0.0695 -0.0769  ...  -0.0746 -0.0713 -0.0518\n",
       "\n",
       "( 0 , 8 ,.,.) = \n",
       " -0.0100 -0.0093 -0.0035  ...  -0.0020  0.0079 -0.0086\n",
       " -0.0019 -0.0000 -0.0029  ...  -0.0071  0.0082 -0.0194\n",
       " -0.0078  0.0015 -0.0021  ...  -0.0058  0.0073 -0.0219\n",
       "           ...             ⋱             ...          \n",
       " -0.0093 -0.0031 -0.0043  ...  -0.0069  0.0055 -0.0245\n",
       " -0.0134 -0.0012 -0.0146  ...  -0.0195 -0.0092 -0.0312\n",
       "  0.0062  0.0186  0.0104  ...   0.0078  0.0023 -0.0192\n",
       "[torch.FloatTensor of size 1x9x500x500]"
      ]
     },
     "execution_count": 6,
     "metadata": {},
     "output_type": "execute_result"
    }
   ],
   "source": [
    "upscale_factor = 3\n",
    "\n",
    "c1 = nn.Conv2d(1, 64, (5, 5), (1, 1), (2, 2))\n",
    "c2 = nn.Conv2d(64, 64, (3, 3), (1, 1), (1, 1))\n",
    "c3 = nn.Conv2d(64, 32, (3, 3), (1, 1), (1, 1))\n",
    "c4 = nn.Conv2d(32, upscale_factor ** 2, (3, 3), (1, 1), (1, 1))\n",
    "\n",
    "conv_output = c4(c3(c2(c1(relu_output))))\n",
    "conv_output"
   ]
  },
  {
   "cell_type": "markdown",
   "metadata": {},
   "source": [
    "Testing the pixel shuffle layer"
   ]
  },
  {
   "cell_type": "code",
   "execution_count": 7,
   "metadata": {
    "scrolled": true
   },
   "outputs": [
    {
     "data": {
      "text/plain": [
       "Variable containing:\n",
       "( 0  , 0  ,.,.) = \n",
       "  0.0191 -0.0090 -0.0513  ...   0.0328 -0.0086 -0.0463\n",
       "  0.0155  0.0184 -0.0708  ...  -0.0172  0.0431 -0.0899\n",
       " -0.0188 -0.0531 -0.0100  ...  -0.0289 -0.0599 -0.0086\n",
       "           ...             ⋱             ...          \n",
       "  0.0053 -0.0055 -0.0487  ...  -0.0130 -0.0231 -0.0577\n",
       "  0.0362  0.0307 -0.0536  ...   0.0068  0.0425 -0.0885\n",
       " -0.0057 -0.0663  0.0062  ...  -0.0174 -0.0518 -0.0192\n",
       "[torch.FloatTensor of size 1x1x1500x1500]"
      ]
     },
     "execution_count": 7,
     "metadata": {},
     "output_type": "execute_result"
    }
   ],
   "source": [
    "shuffle_layer = nn.PixelShuffle(upscale_factor)\n",
    "\n",
    "shuffle_output = shuffle_layer(conv_output)\n",
    "shuffle_output"
   ]
  },
  {
   "cell_type": "markdown",
   "metadata": {},
   "source": [
    "Testing the entire forward pass"
   ]
  },
  {
   "cell_type": "code",
   "execution_count": 8,
   "metadata": {},
   "outputs": [
    {
     "data": {
      "text/plain": [
       "Variable containing:\n",
       "( 0  , 0  ,.,.) = \n",
       "1.00000e-02 *\n",
       "  1.8208 -1.0245 -4.8748  ...   2.3263 -1.7004 -4.8196\n",
       "  1.5000  2.7008 -4.8481  ...   0.7227  3.0765 -5.2113\n",
       " -0.3702 -5.5889 -1.2401  ...  -1.3684 -5.6257 -1.2721\n",
       "           ...             ⋱             ...          \n",
       "  0.0611 -0.0270 -6.0078  ...   0.9214 -0.9115 -5.9274\n",
       "  1.3240  2.4525 -5.4088  ...   1.0712  3.1588 -4.6212\n",
       "  0.0109 -5.8816 -0.7942  ...  -0.7350 -5.1021 -1.8627\n",
       "[torch.FloatTensor of size 1x1x1500x1500]"
      ]
     },
     "execution_count": 8,
     "metadata": {},
     "output_type": "execute_result"
    }
   ],
   "source": [
    "forward_pass = shuffle_layer(\n",
    "    c4(\n",
    "        relu_layer(\n",
    "            c3(\n",
    "                relu_layer(\n",
    "                    c2(\n",
    "                        relu_layer(\n",
    "                            c1(\n",
    "                                testing))))))))\n",
    "\n",
    "forward_pass"
   ]
  },
  {
   "cell_type": "markdown",
   "metadata": {},
   "source": [
    "### The output image"
   ]
  },
  {
   "cell_type": "code",
   "execution_count": 9,
   "metadata": {},
   "outputs": [
    {
     "data": {
      "text/plain": [
       "<matplotlib.image.AxesImage at 0x7fb953da8e48>"
      ]
     },
     "execution_count": 9,
     "metadata": {},
     "output_type": "execute_result"
    },
    {
     "data": {
      "image/png": "[encoded data removed]",
      "text/plain": [
       "<matplotlib.figure.Figure at 0x7fb953ecb3c8>"
      ]
     },
     "metadata": {},
     "output_type": "display_data"
    }
   ],
   "source": [
    "plt.imshow(forward_pass.data.numpy().squeeze())"
   ]
  },
  {
   "cell_type": "markdown",
   "metadata": {},
   "source": [
    "# 2. Variable number of bands?"
   ]
  },
  {
   "cell_type": "markdown",
   "metadata": {},
   "source": [
    "Specifying the number of bands"
   ]
  },
  {
   "cell_type": "code",
   "execution_count": 10,
   "metadata": {},
   "outputs": [],
   "source": [
    "NUMBER_OF_BANDS = 4"
   ]
  },
  {
   "cell_type": "markdown",
   "metadata": {},
   "source": [
    "Creating a testing input with that many bands"
   ]
  },
  {
   "cell_type": "code",
   "execution_count": 11,
   "metadata": {},
   "outputs": [
    {
     "name": "stdout",
     "output_type": "stream",
     "text": [
      "torch.Size([1, 4, 500, 500])\n"
     ]
    },
    {
     "data": {
      "text/plain": [
       "Variable containing:\n",
       "( 0 , 0 ,.,.) = \n",
       "   0   0   0  ...    0   0   0\n",
       "   0   0   0  ...    0   0   0\n",
       "   0   0   0  ...    0   0   0\n",
       "     ...       ⋱       ...    \n",
       "   0   0   0  ...    0   0   0\n",
       "   0   0   0  ...    0   0   0\n",
       "   0   0   0  ...    0   0   0\n",
       "\n",
       "( 0 , 1 ,.,.) = \n",
       "   0   0   0  ...    0   0   0\n",
       "   0   0   0  ...    0   0   0\n",
       "   0   0   0  ...    0   0   0\n",
       "     ...       ⋱       ...    \n",
       "   0   0   0  ...    0   0   0\n",
       "   0   0   0  ...    0   0   0\n",
       "   0   0   0  ...    0   0   0\n",
       "\n",
       "( 0 , 2 ,.,.) = \n",
       "   0   0   0  ...    0   0   0\n",
       "   0   0   0  ...    0   0   0\n",
       "   0   0   0  ...    0   0   0\n",
       "     ...       ⋱       ...    \n",
       "   0   0   0  ...    0   0   0\n",
       "   0   0   0  ...    0   0   0\n",
       "   0   0   0  ...    0   0   0\n",
       "\n",
       "( 0 , 3 ,.,.) = \n",
       "   0   0   0  ...    0   0   0\n",
       "   0   0   0  ...    0   0   0\n",
       "   0   0   0  ...    0   0   0\n",
       "     ...       ⋱       ...    \n",
       "   0   0   0  ...    0   0   0\n",
       "   0   0   0  ...    0   0   0\n",
       "   0   0   0  ...    0   0   0\n",
       "[torch.FloatTensor of size 1x4x500x500]"
      ]
     },
     "execution_count": 11,
     "metadata": {},
     "output_type": "execute_result"
    }
   ],
   "source": [
    "testing = np.zeros((1, NUMBER_OF_BANDS, 500, 500))\n",
    "testing = torch.from_numpy(testing)\n",
    "testing = Variable(testing)\n",
    "testing = testing.float()\n",
    "print(testing.size())\n",
    "testing"
   ]
  },
  {
   "cell_type": "markdown",
   "metadata": {},
   "source": [
    "Tweaking the model"
   ]
  },
  {
   "cell_type": "code",
   "execution_count": 12,
   "metadata": {},
   "outputs": [],
   "source": [
    "class Net(nn.Module):\n",
    "    def __init__(self, upscale_factor):\n",
    "        super(Net, self).__init__()\n",
    "\n",
    "        self.relu = nn.ReLU()\n",
    "        self.conv1 = nn.Conv2d(NUMBER_OF_BANDS, 64, (5, 5), (1, 1), (2, 2))      # Here \n",
    "        self.conv2 = nn.Conv2d(64, 64, (3, 3), (1, 1), (1, 1))\n",
    "        self.conv3 = nn.Conv2d(64, 32, (3, 3), (1, 1), (1, 1))\n",
    "        self.conv4 = nn.Conv2d(32, ((NUMBER_OF_BANDS) * (upscale_factor ** 2)),  # And here\n",
    "                               (3, 3), (1, 1), (1, 1))\n",
    "        self.pixel_shuffle = nn.PixelShuffle(upscale_factor)\n",
    "\n",
    "        self._initialize_weights()\n",
    "\n",
    "    def forward(self, x):\n",
    "        x = self.relu(self.conv1(x))\n",
    "        x = self.relu(self.conv2(x))\n",
    "        x = self.relu(self.conv3(x))\n",
    "        x = self.pixel_shuffle(self.conv4(x))\n",
    "        return x\n",
    "\n",
    "    def _initialize_weights(self):\n",
    "        init.orthogonal(self.conv1.weight, init.calculate_gain('relu'))\n",
    "        init.orthogonal(self.conv2.weight, init.calculate_gain('relu'))\n",
    "        init.orthogonal(self.conv3.weight, init.calculate_gain('relu'))\n",
    "        init.orthogonal(self.conv4.weight)\n",
    "        \n",
    "model = Net(upscale_factor = 3)"
   ]
  },
  {
   "cell_type": "markdown",
   "metadata": {},
   "source": [
    "The output!"
   ]
  },
  {
   "cell_type": "code",
   "execution_count": 13,
   "metadata": {},
   "outputs": [
    {
     "name": "stdout",
     "output_type": "stream",
     "text": [
      "torch.Size([1, 4, 1500, 1500])\n"
     ]
    },
    {
     "data": {
      "text/plain": [
       "Variable containing:\n",
       "( 0  , 0  ,.,.) = \n",
       " -0.0494  0.0230 -0.0100  ...  -0.0182  0.0264 -0.0231\n",
       "  0.0144  0.0137  0.0020  ...   0.0031 -0.0364 -0.0438\n",
       " -0.1033  0.0638 -0.0492  ...  -0.0345  0.0401 -0.0343\n",
       "           ...             ⋱             ...          \n",
       " -0.0315  0.0545  0.0385  ...  -0.0462  0.0263  0.0040\n",
       "  0.0097  0.0209  0.0366  ...   0.0263 -0.0566  0.0219\n",
       " -0.0538  0.0523  0.0287  ...   0.0179  0.0564 -0.0311\n",
       "\n",
       "( 0  , 1  ,.,.) = \n",
       " -0.0353  0.0024  0.0561  ...   0.0113  0.0395  0.0382\n",
       " -0.0193  0.0069  0.0789  ...  -0.0152  0.0120  0.0529\n",
       " -0.0419 -0.1091 -0.0087  ...  -0.0342  0.0029  0.0087\n",
       "           ...             ⋱             ...          \n",
       "  0.0513 -0.0107  0.0729  ...  -0.0285  0.0338  0.0652\n",
       "  0.0363 -0.0038  0.0628  ...   0.0105  0.0136  0.0335\n",
       " -0.0104 -0.0346 -0.0150  ...  -0.0297 -0.0657 -0.0023\n",
       "\n",
       "( 0  , 2  ,.,.) = \n",
       "  0.0203 -0.0092  0.0126  ...   0.0386  0.0132 -0.0038\n",
       " -0.0731 -0.0362  0.0523  ...  -0.0176  0.0091  0.0580\n",
       " -0.0165 -0.0369  0.0575  ...  -0.0221 -0.0002  0.0130\n",
       "           ...             ⋱             ...          \n",
       "  0.0315  0.0099 -0.0042  ...   0.0807  0.0331 -0.0429\n",
       " -0.0490 -0.0968  0.0416  ...  -0.0150 -0.0498  0.0367\n",
       "  0.0183 -0.0516  0.0173  ...  -0.0391 -0.0241  0.0040\n",
       "\n",
       "( 0  , 3  ,.,.) = \n",
       " -0.0218 -0.0382  0.0696  ...  -0.0187 -0.0060  0.0404\n",
       " -0.0361 -0.0387 -0.0661  ...  -0.0280 -0.0184 -0.0381\n",
       " -0.0075  0.0658 -0.0882  ...  -0.0185  0.0574 -0.0408\n",
       "           ...             ⋱             ...          \n",
       " -0.0072 -0.0077  0.0281  ...  -0.0080 -0.0175  0.0158\n",
       " -0.0486 -0.0434 -0.0227  ...  -0.0226 -0.0492 -0.0583\n",
       "  0.0092  0.0147 -0.0299  ...  -0.0241  0.0225 -0.0090\n",
       "[torch.FloatTensor of size 1x4x1500x1500]"
      ]
     },
     "execution_count": 13,
     "metadata": {},
     "output_type": "execute_result"
    }
   ],
   "source": [
    "output = model(testing)\n",
    "print(output.size())\n",
    "output"
   ]
  }
 ],
 "metadata": {
  "kernelspec": {
   "display_name": "Python 3",
   "language": "python",
   "name": "python3"
  },
  "language_info": {
   "codemirror_mode": {
    "name": "ipython",
    "version": 3
   },
   "file_extension": ".py",
   "mimetype": "text/x-python",
   "name": "python",
   "nbconvert_exporter": "python",
   "pygments_lexer": "ipython3",
   "version": "3.6.4"
  }
 },
 "nbformat": 4,
 "nbformat_minor": 2
}
