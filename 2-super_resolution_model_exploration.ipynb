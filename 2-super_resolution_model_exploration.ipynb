{
 "cells": [
  {
   "cell_type": "markdown",
   "metadata": {},
   "source": [
    "## Set up"
   ]
  },
  {
   "cell_type": "markdown",
   "metadata": {},
   "source": [
    "Libraries used"
   ]
  },
  {
   "cell_type": "code",
   "execution_count": 1,
   "metadata": {},
   "outputs": [],
   "source": [
    "import torch\n",
    "import torch.nn as nn\n",
    "import torch.nn.init as init\n",
    "import numpy as np\n",
    "from torch.autograd import Variable\n",
    "import matplotlib.pyplot as plt\n",
    "%matplotlib inline"
   ]
  },
  {
   "cell_type": "markdown",
   "metadata": {},
   "source": [
    "The entire model class (for reference)"
   ]
  },
  {
   "cell_type": "code",
   "execution_count": 2,
   "metadata": {},
   "outputs": [],
   "source": [
    "class Net(nn.Module):\n",
    "    def __init__(self, upscale_factor):\n",
    "        super(Net, self).__init__()\n",
    "\n",
    "        self.relu = nn.ReLU()\n",
    "        self.conv1 = nn.Conv2d(1, 64, (5, 5), (1, 1), (2, 2))\n",
    "        self.conv2 = nn.Conv2d(64, 64, (3, 3), (1, 1), (1, 1))\n",
    "        self.conv3 = nn.Conv2d(64, 32, (3, 3), (1, 1), (1, 1))\n",
    "        self.conv4 = nn.Conv2d(32, upscale_factor ** 2, (3, 3), (1, 1), (1, 1))\n",
    "        self.pixel_shuffle = nn.PixelShuffle(upscale_factor)\n",
    "\n",
    "        self._initialize_weights()\n",
    "\n",
    "    def forward(self, x):\n",
    "        x = self.relu(self.conv1(x))\n",
    "        x = self.relu(self.conv2(x))\n",
    "        x = self.relu(self.conv3(x))\n",
    "        x = self.pixel_shuffle(self.conv4(x))\n",
    "        return x\n",
    "\n",
    "    def _initialize_weights(self):\n",
    "        init.orthogonal(self.conv1.weight, init.calculate_gain('relu'))\n",
    "        init.orthogonal(self.conv2.weight, init.calculate_gain('relu'))\n",
    "        init.orthogonal(self.conv3.weight, init.calculate_gain('relu'))\n",
    "        init.orthogonal(self.conv4.weight)"
   ]
  },
  {
   "cell_type": "markdown",
   "metadata": {},
   "source": [
    "Creating an 'image' to test the model architecture with; this is a 500x500 image with 1 color band (like elevation), and I'm going to try to increase it to a 1500x1500 image (similar to the 30m -> 10m problem)"
   ]
  },
  {
   "cell_type": "code",
   "execution_count": 3,
   "metadata": {},
   "outputs": [
    {
     "data": {
      "text/plain": [
       "Variable containing:\n",
       "( 0 , 0 ,.,.) = \n",
       "   0   0   0  ...    0   0   0\n",
       "   0   0   0  ...    0   0   0\n",
       "   0   0   0  ...    0   0   0\n",
       "     ...       ⋱       ...    \n",
       "   0   0   0  ...    0   0   0\n",
       "   0   0   0  ...    0   0   0\n",
       "   0   0   0  ...    0   0   0\n",
       "[torch.FloatTensor of size 1x1x500x500]"
      ]
     },
     "execution_count": 3,
     "metadata": {},
     "output_type": "execute_result"
    }
   ],
   "source": [
    "testing = np.zeros((1, 1, 500, 500))\n",
    "testing = torch.from_numpy(testing)\n",
    "testing = Variable(testing)\n",
    "testing = testing.float()\n",
    "testing"
   ]
  },
  {
   "cell_type": "markdown",
   "metadata": {},
   "source": [
    "### The beginning image"
   ]
  },
  {
   "cell_type": "code",
   "execution_count": 4,
   "metadata": {},
   "outputs": [
    {
     "data": {
      "text/plain": [
       "<matplotlib.image.AxesImage at 0x7f856af15080>"
      ]
     },
     "execution_count": 4,
     "metadata": {},
     "output_type": "execute_result"
    },
    {
     "data": {
      "image/png": "[encoded data removed]",
      "text/plain": [
       "<matplotlib.figure.Figure at 0x7f856afa0c18>"
      ]
     },
     "metadata": {},
     "output_type": "display_data"
    }
   ],
   "source": [
    "plt.imshow(testing.data.numpy().squeeze())"
   ]
  },
  {
   "cell_type": "markdown",
   "metadata": {},
   "source": [
    "Testing the ReLU layer"
   ]
  },
  {
   "cell_type": "code",
   "execution_count": 5,
   "metadata": {},
   "outputs": [
    {
     "data": {
      "text/plain": [
       "Variable containing:\n",
       "( 0 , 0 ,.,.) = \n",
       "   0   0   0  ...    0   0   0\n",
       "   0   0   0  ...    0   0   0\n",
       "   0   0   0  ...    0   0   0\n",
       "     ...       ⋱       ...    \n",
       "   0   0   0  ...    0   0   0\n",
       "   0   0   0  ...    0   0   0\n",
       "   0   0   0  ...    0   0   0\n",
       "[torch.FloatTensor of size 1x1x500x500]"
      ]
     },
     "execution_count": 5,
     "metadata": {},
     "output_type": "execute_result"
    }
   ],
   "source": [
    "relu_layer = nn.ReLU()\n",
    "relu_output = relu_layer(testing)\n",
    "relu_output"
   ]
  },
  {
   "cell_type": "markdown",
   "metadata": {},
   "source": [
    "Testing the convolution layers"
   ]
  },
  {
   "cell_type": "code",
   "execution_count": 6,
   "metadata": {},
   "outputs": [
    {
     "data": {
      "text/plain": [
       "Variable containing:\n",
       "( 0 , 0 ,.,.) = \n",
       "  0.0007  0.0489  0.0554  ...   0.0503  0.0525  0.0663\n",
       " -0.0040  0.0285  0.0382  ...   0.0306  0.0426  0.0681\n",
       " -0.0027  0.0319  0.0414  ...   0.0329  0.0450  0.0731\n",
       "           ...             ⋱             ...          \n",
       " -0.0022  0.0318  0.0431  ...   0.0335  0.0437  0.0739\n",
       "  0.0119  0.0380  0.0508  ...   0.0408  0.0450  0.0648\n",
       "  0.0104  0.0038  0.0093  ...   0.0062  0.0127  0.0360\n",
       "\n",
       "( 0 , 1 ,.,.) = \n",
       "  0.0179  0.0408  0.0458  ...   0.0477  0.0422  0.0189\n",
       "  0.0079  0.0255  0.0245  ...   0.0243  0.0199  0.0124\n",
       "  0.0226  0.0434  0.0487  ...   0.0493  0.0387  0.0206\n",
       "           ...             ⋱             ...          \n",
       "  0.0221  0.0468  0.0480  ...   0.0491  0.0401  0.0207\n",
       "  0.0063  0.0295  0.0256  ...   0.0251  0.0253  0.0152\n",
       "  0.0085  0.0138  0.0091  ...   0.0054  0.0026 -0.0002\n",
       "\n",
       "( 0 , 2 ,.,.) = \n",
       " -0.0261 -0.0023 -0.0104  ...  -0.0093 -0.0101 -0.0223\n",
       " -0.0267 -0.0163 -0.0290  ...  -0.0303 -0.0287 -0.0437\n",
       " -0.0242 -0.0183 -0.0317  ...  -0.0269 -0.0319 -0.0502\n",
       "           ...             ⋱             ...          \n",
       " -0.0231 -0.0201 -0.0335  ...  -0.0285 -0.0311 -0.0494\n",
       " -0.0302 -0.0323 -0.0477  ...  -0.0444 -0.0456 -0.0550\n",
       " -0.0122 -0.0300 -0.0352  ...  -0.0319 -0.0355 -0.0563\n",
       "    ... \n",
       "\n",
       "( 0 , 6 ,.,.) = \n",
       "  0.0360  0.0494  0.0534  ...   0.0457  0.0269  0.0291\n",
       "  0.0219  0.0333  0.0312  ...   0.0243  0.0011  0.0158\n",
       "  0.0268  0.0365  0.0374  ...   0.0322  0.0079  0.0191\n",
       "           ...             ⋱             ...          \n",
       "  0.0288  0.0327  0.0319  ...   0.0277  0.0047  0.0137\n",
       "  0.0261  0.0299  0.0283  ...   0.0271  0.0081  0.0158\n",
       "  0.0208  0.0146  0.0111  ...   0.0173  0.0054  0.0157\n",
       "\n",
       "( 0 , 7 ,.,.) = \n",
       "  0.0340  0.0210  0.0266  ...   0.0340  0.0329  0.0431\n",
       "  0.0416  0.0484  0.0487  ...   0.0567  0.0512  0.0686\n",
       "  0.0365  0.0490  0.0456  ...   0.0549  0.0456  0.0664\n",
       "           ...             ⋱             ...          \n",
       "  0.0310  0.0442  0.0397  ...   0.0505  0.0423  0.0658\n",
       "  0.0204  0.0342  0.0273  ...   0.0363  0.0346  0.0641\n",
       "  0.0366  0.0576  0.0492  ...   0.0496  0.0397  0.0601\n",
       "\n",
       "( 0 , 8 ,.,.) = \n",
       " -0.0156 -0.0345 -0.0439  ...  -0.0460 -0.0443 -0.0295\n",
       " -0.0124 -0.0169 -0.0375  ...  -0.0383 -0.0326 -0.0349\n",
       " -0.0120 -0.0148 -0.0403  ...  -0.0429 -0.0429 -0.0419\n",
       "           ...             ⋱             ...          \n",
       " -0.0132 -0.0182 -0.0438  ...  -0.0485 -0.0437 -0.0448\n",
       " -0.0143 -0.0146 -0.0416  ...  -0.0448 -0.0386 -0.0344\n",
       " -0.0060 -0.0004 -0.0187  ...  -0.0171 -0.0157 -0.0097\n",
       "[torch.FloatTensor of size 1x9x500x500]"
      ]
     },
     "execution_count": 6,
     "metadata": {},
     "output_type": "execute_result"
    }
   ],
   "source": [
    "upscale_factor = 3\n",
    "\n",
    "c1 = nn.Conv2d(1, 64, (5, 5), (1, 1), (2, 2))\n",
    "c2 = nn.Conv2d(64, 64, (3, 3), (1, 1), (1, 1))\n",
    "c3 = nn.Conv2d(64, 32, (3, 3), (1, 1), (1, 1))\n",
    "c4 = nn.Conv2d(32, upscale_factor ** 2, (3, 3), (1, 1), (1, 1))\n",
    "\n",
    "conv_output = c4(c3(c2(c1(relu_output))))\n",
    "conv_output"
   ]
  },
  {
   "cell_type": "markdown",
   "metadata": {},
   "source": [
    "Testing the pixel shuffle layer"
   ]
  },
  {
   "cell_type": "code",
   "execution_count": 7,
   "metadata": {
    "scrolled": true
   },
   "outputs": [
    {
     "data": {
      "text/plain": [
       "Variable containing:\n",
       "( 0  , 0  ,.,.) = \n",
       "  0.0007  0.0179 -0.0261  ...   0.0663  0.0189 -0.0223\n",
       "  0.0332  0.0905  0.0980  ...   0.0495  0.0464  0.0667\n",
       "  0.0360  0.0340 -0.0156  ...   0.0291  0.0431 -0.0295\n",
       "           ...             ⋱             ...          \n",
       "  0.0104  0.0085 -0.0122  ...   0.0360 -0.0002 -0.0563\n",
       "  0.0715  0.0640  0.1046  ...   0.0766  0.0725  0.0879\n",
       "  0.0208  0.0366 -0.0060  ...   0.0157  0.0601 -0.0097\n",
       "[torch.FloatTensor of size 1x1x1500x1500]"
      ]
     },
     "execution_count": 7,
     "metadata": {},
     "output_type": "execute_result"
    }
   ],
   "source": [
    "shuffle_layer = nn.PixelShuffle(upscale_factor)\n",
    "\n",
    "shuffle_output = shuffle_layer(conv_output)\n",
    "shuffle_output"
   ]
  },
  {
   "cell_type": "markdown",
   "metadata": {},
   "source": [
    "Testing the entire forward pass"
   ]
  },
  {
   "cell_type": "code",
   "execution_count": 8,
   "metadata": {},
   "outputs": [
    {
     "data": {
      "text/plain": [
       "Variable containing:\n",
       "( 0  , 0  ,.,.) = \n",
       "1.00000e-02 *\n",
       "  2.0230 -0.3511 -2.8104  ...   3.7415  0.1819 -1.8503\n",
       "  6.0912  5.5735  5.9634  ...   5.8286  5.5489  6.1350\n",
       "  2.6886  5.2304  0.6409  ...   1.9164  4.1944 -0.1353\n",
       "           ...             ⋱             ...          \n",
       "  3.4465 -0.9198 -2.8652  ...   4.0042 -1.0400 -4.7428\n",
       "  6.1761  5.6934  6.4677  ...   6.6250  4.4052  6.7090\n",
       "  1.8133  4.7168  0.3814  ...   1.7068  5.1123  0.9729\n",
       "[torch.FloatTensor of size 1x1x1500x1500]"
      ]
     },
     "execution_count": 8,
     "metadata": {},
     "output_type": "execute_result"
    }
   ],
   "source": [
    "forward_pass = shuffle_layer(\n",
    "    c4(\n",
    "        relu_layer(\n",
    "            c3(\n",
    "                relu_layer(\n",
    "                    c2(\n",
    "                        relu_layer(\n",
    "                            c1(\n",
    "                                testing))))))))\n",
    "\n",
    "forward_pass"
   ]
  },
  {
   "cell_type": "markdown",
   "metadata": {},
   "source": [
    "### The output image"
   ]
  },
  {
   "cell_type": "code",
   "execution_count": 9,
   "metadata": {},
   "outputs": [
    {
     "data": {
      "text/plain": [
       "<matplotlib.image.AxesImage at 0x7f856ae3dcc0>"
      ]
     },
     "execution_count": 9,
     "metadata": {},
     "output_type": "execute_result"
    },
    {
     "data": {
      "image/png": "[encoded data removed]",
      "text/plain": [
       "<matplotlib.figure.Figure at 0x7f856af672e8>"
      ]
     },
     "metadata": {},
     "output_type": "display_data"
    }
   ],
   "source": [
    "plt.imshow(forward_pass.data.numpy().squeeze())"
   ]
  }
 ],
 "metadata": {
  "kernelspec": {
   "display_name": "Python 3",
   "language": "python",
   "name": "python3"
  },
  "language_info": {
   "codemirror_mode": {
    "name": "ipython",
    "version": 3
   },
   "file_extension": ".py",
   "mimetype": "text/x-python",
   "name": "python",
   "nbconvert_exporter": "python",
   "pygments_lexer": "ipython3",
   "version": "3.6.4"
  }
 },
 "nbformat": 4,
 "nbformat_minor": 2
}
